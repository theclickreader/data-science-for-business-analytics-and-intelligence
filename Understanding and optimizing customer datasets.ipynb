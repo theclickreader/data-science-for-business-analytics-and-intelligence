{
 "cells": [
  {
   "cell_type": "markdown",
   "metadata": {},
   "source": [
    "# Understanding and optimizing customer datasets"
   ]
  },
  {
   "cell_type": "markdown",
   "metadata": {},
   "source": [
    "In this lesson, we will be focusing on the Google Merchandise Store's (GStore) customer dataset. This dataset contains information about the session history of each user on the GStore's website along with their generated revenue in case they ever made a purchase.\n",
    "\n",
    "<img src=\"images/google_store.jpg\" width=\"400\">\n",
    "\n",
    "Our goal with this lesson is to learn what kind of data we should be collecting for our own business in order to properly apply business analytics and intelligence.\n",
    "\n",
    "Since most of the data fields present in this dataset is based off of Google Analytics along with some internal transactional data, any business can apply the techniques taught in this course to harvest and optimize such datasets."
   ]
  },
  {
   "cell_type": "markdown",
   "metadata": {},
   "source": [
    "The dataset contains the following information,"
   ]
  },
  {
   "cell_type": "markdown",
   "metadata": {},
   "source": [
    "- fullVisitorId - A unique identifier for each user of the Google Merchandise Store.\n",
    "- channelGrouping - The channel via which the user came to the Store.\n",
    "- date - The date on which the user visited the Store.\n",
    "- device - The specifications for the device used to access the Store.\n",
    "- geoNetwork - This section contains information about the geography of the user.\n",
    "- socialEngagementType - Engagement type, either \"Socially Engaged\" or \"Not Socially Engaged\".\n",
    "- totals - This section contains aggregate values across the session.\n",
    "- trafficSource - This section contains information about the Traffic Source from which the session originated.\n",
    "- visitId - An identifier for this session. This is part of the value usually stored as the _utmb cookie. This is only unique to the user. For a completely unique ID, you should use a combination of fullVisitorId and visitId.\n",
    "- visitNumber - The session number for this user. If this is the first session, then this is set to 1.\n",
    "- visitStartTime - The timestamp (expressed as POSIX time).\n",
    "- hits - This row and nested fields are populated for any and all types of hits. Provides a record of all page visits.\n",
    "- customDimensions - This section contains any user-level or session-level custom dimensions that are set for a session. This is a repeated field and has an entry for each dimension that is set.\n",
    "- totals - This set of columns mostly includes high-level aggregate data."
   ]
  },
  {
   "cell_type": "markdown",
   "metadata": {},
   "source": [
    "Let us start by importing the necessary libraries,"
   ]
  },
  {
   "cell_type": "code",
   "execution_count": 1,
   "metadata": {},
   "outputs": [],
   "source": [
    "import pandas as pd"
   ]
  },
  {
   "cell_type": "markdown",
   "metadata": {},
   "source": [
    "Next, importing the CSV file called `gstore_data.csv` which contains information about each user's website visit along with the revenue they generated for Google."
   ]
  },
  {
   "cell_type": "code",
   "execution_count": 2,
   "metadata": {},
   "outputs": [],
   "source": [
    "# Reading in the CSV file as a DataFrame\n",
    "store_df = pd.read_csv('data/gstore_data.csv', low_memory=False)"
   ]
  },
  {
   "cell_type": "code",
   "execution_count": 3,
   "metadata": {},
   "outputs": [
    {
     "data": {
      "text/html": [
       "<div>\n",
       "<style scoped>\n",
       "    .dataframe tbody tr th:only-of-type {\n",
       "        vertical-align: middle;\n",
       "    }\n",
       "\n",
       "    .dataframe tbody tr th {\n",
       "        vertical-align: top;\n",
       "    }\n",
       "\n",
       "    .dataframe thead th {\n",
       "        text-align: right;\n",
       "    }\n",
       "</style>\n",
       "<table border=\"1\" class=\"dataframe\">\n",
       "  <thead>\n",
       "    <tr style=\"text-align: right;\">\n",
       "      <th></th>\n",
       "      <th>channelGrouping</th>\n",
       "      <th>date</th>\n",
       "      <th>fullVisitorId</th>\n",
       "      <th>sessionId</th>\n",
       "      <th>socialEngagementType</th>\n",
       "      <th>visitId</th>\n",
       "      <th>visitNumber</th>\n",
       "      <th>visitStartTime</th>\n",
       "      <th>device.browser</th>\n",
       "      <th>device.browserVersion</th>\n",
       "      <th>...</th>\n",
       "      <th>trafficSource.adwordsClickInfo.criteriaParameters</th>\n",
       "      <th>trafficSource.isTrueDirect</th>\n",
       "      <th>trafficSource.referralPath</th>\n",
       "      <th>trafficSource.adwordsClickInfo.page</th>\n",
       "      <th>trafficSource.adwordsClickInfo.slot</th>\n",
       "      <th>trafficSource.adwordsClickInfo.gclId</th>\n",
       "      <th>trafficSource.adwordsClickInfo.adNetworkType</th>\n",
       "      <th>trafficSource.adwordsClickInfo.isVideoAd</th>\n",
       "      <th>trafficSource.adContent</th>\n",
       "      <th>trafficSource.campaignCode</th>\n",
       "    </tr>\n",
       "  </thead>\n",
       "  <tbody>\n",
       "    <tr>\n",
       "      <th>0</th>\n",
       "      <td>Organic Search</td>\n",
       "      <td>20160902</td>\n",
       "      <td>1131660440785968503</td>\n",
       "      <td>1131660440785968503_1472830385</td>\n",
       "      <td>Not Socially Engaged</td>\n",
       "      <td>1472830385</td>\n",
       "      <td>1</td>\n",
       "      <td>1472830385</td>\n",
       "      <td>Chrome</td>\n",
       "      <td>not available in demo dataset</td>\n",
       "      <td>...</td>\n",
       "      <td>not available in demo dataset</td>\n",
       "      <td>NaN</td>\n",
       "      <td>NaN</td>\n",
       "      <td>NaN</td>\n",
       "      <td>NaN</td>\n",
       "      <td>NaN</td>\n",
       "      <td>NaN</td>\n",
       "      <td>NaN</td>\n",
       "      <td>NaN</td>\n",
       "      <td>NaN</td>\n",
       "    </tr>\n",
       "    <tr>\n",
       "      <th>1</th>\n",
       "      <td>Organic Search</td>\n",
       "      <td>20160902</td>\n",
       "      <td>377306020877927890</td>\n",
       "      <td>377306020877927890_1472880147</td>\n",
       "      <td>Not Socially Engaged</td>\n",
       "      <td>1472880147</td>\n",
       "      <td>1</td>\n",
       "      <td>1472880147</td>\n",
       "      <td>Firefox</td>\n",
       "      <td>not available in demo dataset</td>\n",
       "      <td>...</td>\n",
       "      <td>not available in demo dataset</td>\n",
       "      <td>NaN</td>\n",
       "      <td>NaN</td>\n",
       "      <td>NaN</td>\n",
       "      <td>NaN</td>\n",
       "      <td>NaN</td>\n",
       "      <td>NaN</td>\n",
       "      <td>NaN</td>\n",
       "      <td>NaN</td>\n",
       "      <td>NaN</td>\n",
       "    </tr>\n",
       "    <tr>\n",
       "      <th>2</th>\n",
       "      <td>Organic Search</td>\n",
       "      <td>20160902</td>\n",
       "      <td>3895546263509774583</td>\n",
       "      <td>3895546263509774583_1472865386</td>\n",
       "      <td>Not Socially Engaged</td>\n",
       "      <td>1472865386</td>\n",
       "      <td>1</td>\n",
       "      <td>1472865386</td>\n",
       "      <td>Chrome</td>\n",
       "      <td>not available in demo dataset</td>\n",
       "      <td>...</td>\n",
       "      <td>not available in demo dataset</td>\n",
       "      <td>NaN</td>\n",
       "      <td>NaN</td>\n",
       "      <td>NaN</td>\n",
       "      <td>NaN</td>\n",
       "      <td>NaN</td>\n",
       "      <td>NaN</td>\n",
       "      <td>NaN</td>\n",
       "      <td>NaN</td>\n",
       "      <td>NaN</td>\n",
       "    </tr>\n",
       "    <tr>\n",
       "      <th>3</th>\n",
       "      <td>Organic Search</td>\n",
       "      <td>20160902</td>\n",
       "      <td>4763447161404445595</td>\n",
       "      <td>4763447161404445595_1472881213</td>\n",
       "      <td>Not Socially Engaged</td>\n",
       "      <td>1472881213</td>\n",
       "      <td>1</td>\n",
       "      <td>1472881213</td>\n",
       "      <td>UC Browser</td>\n",
       "      <td>not available in demo dataset</td>\n",
       "      <td>...</td>\n",
       "      <td>not available in demo dataset</td>\n",
       "      <td>NaN</td>\n",
       "      <td>NaN</td>\n",
       "      <td>NaN</td>\n",
       "      <td>NaN</td>\n",
       "      <td>NaN</td>\n",
       "      <td>NaN</td>\n",
       "      <td>NaN</td>\n",
       "      <td>NaN</td>\n",
       "      <td>NaN</td>\n",
       "    </tr>\n",
       "    <tr>\n",
       "      <th>4</th>\n",
       "      <td>Organic Search</td>\n",
       "      <td>20160902</td>\n",
       "      <td>27294437909732085</td>\n",
       "      <td>27294437909732085_1472822600</td>\n",
       "      <td>Not Socially Engaged</td>\n",
       "      <td>1472822600</td>\n",
       "      <td>2</td>\n",
       "      <td>1472822600</td>\n",
       "      <td>Chrome</td>\n",
       "      <td>not available in demo dataset</td>\n",
       "      <td>...</td>\n",
       "      <td>not available in demo dataset</td>\n",
       "      <td>True</td>\n",
       "      <td>NaN</td>\n",
       "      <td>NaN</td>\n",
       "      <td>NaN</td>\n",
       "      <td>NaN</td>\n",
       "      <td>NaN</td>\n",
       "      <td>NaN</td>\n",
       "      <td>NaN</td>\n",
       "      <td>NaN</td>\n",
       "    </tr>\n",
       "  </tbody>\n",
       "</table>\n",
       "<p>5 rows × 55 columns</p>\n",
       "</div>"
      ],
      "text/plain": [
       "  channelGrouping      date        fullVisitorId  \\\n",
       "0  Organic Search  20160902  1131660440785968503   \n",
       "1  Organic Search  20160902   377306020877927890   \n",
       "2  Organic Search  20160902  3895546263509774583   \n",
       "3  Organic Search  20160902  4763447161404445595   \n",
       "4  Organic Search  20160902    27294437909732085   \n",
       "\n",
       "                        sessionId  socialEngagementType     visitId  \\\n",
       "0  1131660440785968503_1472830385  Not Socially Engaged  1472830385   \n",
       "1   377306020877927890_1472880147  Not Socially Engaged  1472880147   \n",
       "2  3895546263509774583_1472865386  Not Socially Engaged  1472865386   \n",
       "3  4763447161404445595_1472881213  Not Socially Engaged  1472881213   \n",
       "4    27294437909732085_1472822600  Not Socially Engaged  1472822600   \n",
       "\n",
       "   visitNumber  visitStartTime device.browser          device.browserVersion  \\\n",
       "0            1      1472830385         Chrome  not available in demo dataset   \n",
       "1            1      1472880147        Firefox  not available in demo dataset   \n",
       "2            1      1472865386         Chrome  not available in demo dataset   \n",
       "3            1      1472881213     UC Browser  not available in demo dataset   \n",
       "4            2      1472822600         Chrome  not available in demo dataset   \n",
       "\n",
       "   ... trafficSource.adwordsClickInfo.criteriaParameters  \\\n",
       "0  ...                     not available in demo dataset   \n",
       "1  ...                     not available in demo dataset   \n",
       "2  ...                     not available in demo dataset   \n",
       "3  ...                     not available in demo dataset   \n",
       "4  ...                     not available in demo dataset   \n",
       "\n",
       "  trafficSource.isTrueDirect trafficSource.referralPath  \\\n",
       "0                        NaN                        NaN   \n",
       "1                        NaN                        NaN   \n",
       "2                        NaN                        NaN   \n",
       "3                        NaN                        NaN   \n",
       "4                       True                        NaN   \n",
       "\n",
       "   trafficSource.adwordsClickInfo.page trafficSource.adwordsClickInfo.slot  \\\n",
       "0                                  NaN                                 NaN   \n",
       "1                                  NaN                                 NaN   \n",
       "2                                  NaN                                 NaN   \n",
       "3                                  NaN                                 NaN   \n",
       "4                                  NaN                                 NaN   \n",
       "\n",
       "  trafficSource.adwordsClickInfo.gclId  \\\n",
       "0                                  NaN   \n",
       "1                                  NaN   \n",
       "2                                  NaN   \n",
       "3                                  NaN   \n",
       "4                                  NaN   \n",
       "\n",
       "  trafficSource.adwordsClickInfo.adNetworkType  \\\n",
       "0                                          NaN   \n",
       "1                                          NaN   \n",
       "2                                          NaN   \n",
       "3                                          NaN   \n",
       "4                                          NaN   \n",
       "\n",
       "  trafficSource.adwordsClickInfo.isVideoAd trafficSource.adContent  \\\n",
       "0                                      NaN                     NaN   \n",
       "1                                      NaN                     NaN   \n",
       "2                                      NaN                     NaN   \n",
       "3                                      NaN                     NaN   \n",
       "4                                      NaN                     NaN   \n",
       "\n",
       "  trafficSource.campaignCode  \n",
       "0                        NaN  \n",
       "1                        NaN  \n",
       "2                        NaN  \n",
       "3                        NaN  \n",
       "4                        NaN  \n",
       "\n",
       "[5 rows x 55 columns]"
      ]
     },
     "execution_count": 3,
     "metadata": {},
     "output_type": "execute_result"
    }
   ],
   "source": [
    "# Looking at the first five rows\n",
    "store_df.head()"
   ]
  },
  {
   "cell_type": "markdown",
   "metadata": {},
   "source": [
    "Let us look at the shape of the DataFrame to determine how many sessions were recorded on the GStore's website."
   ]
  },
  {
   "cell_type": "code",
   "execution_count": 4,
   "metadata": {},
   "outputs": [
    {
     "data": {
      "text/plain": [
       "(903653, 55)"
      ]
     },
     "execution_count": 4,
     "metadata": {},
     "output_type": "execute_result"
    }
   ],
   "source": [
    "# Viewing the shape of the DataFrame\n",
    "store_df.shape"
   ]
  },
  {
   "cell_type": "markdown",
   "metadata": {},
   "source": [
    "Since the dataset is large, let us see how much memory it occupies."
   ]
  },
  {
   "cell_type": "code",
   "execution_count": 5,
   "metadata": {},
   "outputs": [
    {
     "name": "stdout",
     "output_type": "stream",
     "text": [
      "<class 'pandas.core.frame.DataFrame'>\n",
      "RangeIndex: 903653 entries, 0 to 903652\n",
      "Data columns (total 55 columns):\n",
      " #   Column                                             Non-Null Count   Dtype  \n",
      "---  ------                                             --------------   -----  \n",
      " 0   channelGrouping                                    903653 non-null  object \n",
      " 1   date                                               903653 non-null  int64  \n",
      " 2   fullVisitorId                                      903653 non-null  object \n",
      " 3   sessionId                                          903653 non-null  object \n",
      " 4   socialEngagementType                               903653 non-null  object \n",
      " 5   visitId                                            903653 non-null  int64  \n",
      " 6   visitNumber                                        903653 non-null  int64  \n",
      " 7   visitStartTime                                     903653 non-null  int64  \n",
      " 8   device.browser                                     903653 non-null  object \n",
      " 9   device.browserVersion                              903653 non-null  object \n",
      " 10  device.browserSize                                 903653 non-null  object \n",
      " 11  device.operatingSystem                             903653 non-null  object \n",
      " 12  device.operatingSystemVersion                      903653 non-null  object \n",
      " 13  device.isMobile                                    903653 non-null  bool   \n",
      " 14  device.mobileDeviceBranding                        903653 non-null  object \n",
      " 15  device.mobileDeviceModel                           903653 non-null  object \n",
      " 16  device.mobileInputSelector                         903653 non-null  object \n",
      " 17  device.mobileDeviceInfo                            903653 non-null  object \n",
      " 18  device.mobileDeviceMarketingName                   903653 non-null  object \n",
      " 19  device.flashVersion                                903653 non-null  object \n",
      " 20  device.language                                    903653 non-null  object \n",
      " 21  device.screenColors                                903653 non-null  object \n",
      " 22  device.screenResolution                            903653 non-null  object \n",
      " 23  device.deviceCategory                              903653 non-null  object \n",
      " 24  geoNetwork.continent                               903653 non-null  object \n",
      " 25  geoNetwork.subContinent                            903653 non-null  object \n",
      " 26  geoNetwork.country                                 903653 non-null  object \n",
      " 27  geoNetwork.region                                  903653 non-null  object \n",
      " 28  geoNetwork.metro                                   903653 non-null  object \n",
      " 29  geoNetwork.city                                    903653 non-null  object \n",
      " 30  geoNetwork.cityId                                  903653 non-null  object \n",
      " 31  geoNetwork.networkDomain                           903653 non-null  object \n",
      " 32  geoNetwork.latitude                                903653 non-null  object \n",
      " 33  geoNetwork.longitude                               903653 non-null  object \n",
      " 34  geoNetwork.networkLocation                         903653 non-null  object \n",
      " 35  totals.visits                                      903653 non-null  int64  \n",
      " 36  totals.hits                                        903653 non-null  int64  \n",
      " 37  totals.pageviews                                   903553 non-null  float64\n",
      " 38  totals.bounces                                     450630 non-null  float64\n",
      " 39  totals.newVisits                                   703060 non-null  float64\n",
      " 40  totals.transactionRevenue                          11515 non-null   float64\n",
      " 41  trafficSource.campaign                             903653 non-null  object \n",
      " 42  trafficSource.source                               903653 non-null  object \n",
      " 43  trafficSource.medium                               903653 non-null  object \n",
      " 44  trafficSource.keyword                              400724 non-null  object \n",
      " 45  trafficSource.adwordsClickInfo.criteriaParameters  903653 non-null  object \n",
      " 46  trafficSource.isTrueDirect                         274005 non-null  object \n",
      " 47  trafficSource.referralPath                         330941 non-null  object \n",
      " 48  trafficSource.adwordsClickInfo.page                21460 non-null   float64\n",
      " 49  trafficSource.adwordsClickInfo.slot                21460 non-null   object \n",
      " 50  trafficSource.adwordsClickInfo.gclId               21561 non-null   object \n",
      " 51  trafficSource.adwordsClickInfo.adNetworkType       21460 non-null   object \n",
      " 52  trafficSource.adwordsClickInfo.isVideoAd           21460 non-null   object \n",
      " 53  trafficSource.adContent                            10946 non-null   object \n",
      " 54  trafficSource.campaignCode                         1 non-null       object \n",
      "dtypes: bool(1), float64(5), int64(6), object(43)\n",
      "memory usage: 2.6 GB\n"
     ]
    }
   ],
   "source": [
    "# Printing a concise summary of the DataFrame\n",
    "store_df.info(memory_usage=\"deep\")"
   ]
  },
  {
   "cell_type": "markdown",
   "metadata": {},
   "source": [
    "**Should we remove the rows (session history) to reduce memory usage?**"
   ]
  },
  {
   "cell_type": "markdown",
   "metadata": {},
   "source": [
    "We should keep in mind that the session history is very important for profiling the customers of a business, along with their behavioral patterns.\n",
    "\n",
    "Therefore, even if the dataset feels large, we should not remove the rows in the dataset as long as possible. Alternatively, we can take a sample out of the dataset that is most representative of the entire dataset in order to conduct our analysis. This is what most statisticians do."
   ]
  },
  {
   "cell_type": "markdown",
   "metadata": {},
   "source": [
    "But, since we will be performing Machine Learning later on in this course, let us keep all the rows of data for our analysis."
   ]
  },
  {
   "cell_type": "markdown",
   "metadata": {},
   "source": [
    "**Should we remove the columns (data fields) to reduce memory usage?**"
   ]
  },
  {
   "cell_type": "markdown",
   "metadata": {},
   "source": [
    "The removal of a column is completely dependent on the data it holds. If a column doesn't contain data that is significant to analysis or modeling then it can be removed. Examples of such columns are columns containing mostly null values, a single constant value or a randomly generated value.\n",
    "\n",
    "First, let us print out all the column names in the dataset."
   ]
  },
  {
   "cell_type": "code",
   "execution_count": 6,
   "metadata": {},
   "outputs": [
    {
     "data": {
      "text/plain": [
       "Index(['channelGrouping', 'date', 'fullVisitorId', 'sessionId',\n",
       "       'socialEngagementType', 'visitId', 'visitNumber', 'visitStartTime',\n",
       "       'device.browser', 'device.browserVersion', 'device.browserSize',\n",
       "       'device.operatingSystem', 'device.operatingSystemVersion',\n",
       "       'device.isMobile', 'device.mobileDeviceBranding',\n",
       "       'device.mobileDeviceModel', 'device.mobileInputSelector',\n",
       "       'device.mobileDeviceInfo', 'device.mobileDeviceMarketingName',\n",
       "       'device.flashVersion', 'device.language', 'device.screenColors',\n",
       "       'device.screenResolution', 'device.deviceCategory',\n",
       "       'geoNetwork.continent', 'geoNetwork.subContinent', 'geoNetwork.country',\n",
       "       'geoNetwork.region', 'geoNetwork.metro', 'geoNetwork.city',\n",
       "       'geoNetwork.cityId', 'geoNetwork.networkDomain', 'geoNetwork.latitude',\n",
       "       'geoNetwork.longitude', 'geoNetwork.networkLocation', 'totals.visits',\n",
       "       'totals.hits', 'totals.pageviews', 'totals.bounces', 'totals.newVisits',\n",
       "       'totals.transactionRevenue', 'trafficSource.campaign',\n",
       "       'trafficSource.source', 'trafficSource.medium', 'trafficSource.keyword',\n",
       "       'trafficSource.adwordsClickInfo.criteriaParameters',\n",
       "       'trafficSource.isTrueDirect', 'trafficSource.referralPath',\n",
       "       'trafficSource.adwordsClickInfo.page',\n",
       "       'trafficSource.adwordsClickInfo.slot',\n",
       "       'trafficSource.adwordsClickInfo.gclId',\n",
       "       'trafficSource.adwordsClickInfo.adNetworkType',\n",
       "       'trafficSource.adwordsClickInfo.isVideoAd', 'trafficSource.adContent',\n",
       "       'trafficSource.campaignCode'],\n",
       "      dtype='object')"
      ]
     },
     "execution_count": 6,
     "metadata": {},
     "output_type": "execute_result"
    }
   ],
   "source": [
    "# Printing the column names\n",
    "store_df.columns"
   ]
  },
  {
   "cell_type": "markdown",
   "metadata": {},
   "source": [
    "We can select any of the column and print out the unique values in it by using the `nunique()` method."
   ]
  },
  {
   "cell_type": "code",
   "execution_count": 7,
   "metadata": {},
   "outputs": [
    {
     "data": {
      "text/plain": [
       "8"
      ]
     },
     "execution_count": 7,
     "metadata": {},
     "output_type": "execute_result"
    }
   ],
   "source": [
    "# Count the unique elements in the column\n",
    "store_df['channelGrouping'].nunique(dropna=False)"
   ]
  },
  {
   "cell_type": "markdown",
   "metadata": {},
   "source": [
    "We can also print out the unique values for all the columns at once."
   ]
  },
  {
   "cell_type": "code",
   "execution_count": 8,
   "metadata": {},
   "outputs": [
    {
     "data": {
      "text/plain": [
       "channelGrouping                                           8\n",
       "date                                                    366\n",
       "fullVisitorId                                        714167\n",
       "sessionId                                            902755\n",
       "socialEngagementType                                      1\n",
       "visitId                                              886303\n",
       "visitNumber                                             384\n",
       "visitStartTime                                       887159\n",
       "device.browser                                           54\n",
       "device.browserVersion                                     1\n",
       "device.browserSize                                        1\n",
       "device.operatingSystem                                   20\n",
       "device.operatingSystemVersion                             1\n",
       "device.isMobile                                           2\n",
       "device.mobileDeviceBranding                               1\n",
       "device.mobileDeviceModel                                  1\n",
       "device.mobileInputSelector                                1\n",
       "device.mobileDeviceInfo                                   1\n",
       "device.mobileDeviceMarketingName                          1\n",
       "device.flashVersion                                       1\n",
       "device.language                                           1\n",
       "device.screenColors                                       1\n",
       "device.screenResolution                                   1\n",
       "device.deviceCategory                                     3\n",
       "geoNetwork.continent                                      6\n",
       "geoNetwork.subContinent                                  23\n",
       "geoNetwork.country                                      222\n",
       "geoNetwork.region                                       376\n",
       "geoNetwork.metro                                         94\n",
       "geoNetwork.city                                         649\n",
       "geoNetwork.cityId                                         1\n",
       "geoNetwork.networkDomain                              28064\n",
       "geoNetwork.latitude                                       1\n",
       "geoNetwork.longitude                                      1\n",
       "geoNetwork.networkLocation                                1\n",
       "totals.visits                                             1\n",
       "totals.hits                                             274\n",
       "totals.pageviews                                        214\n",
       "totals.bounces                                            2\n",
       "totals.newVisits                                          2\n",
       "totals.transactionRevenue                              5333\n",
       "trafficSource.campaign                                   10\n",
       "trafficSource.source                                    380\n",
       "trafficSource.medium                                      7\n",
       "trafficSource.keyword                                  3660\n",
       "trafficSource.adwordsClickInfo.criteriaParameters         1\n",
       "trafficSource.isTrueDirect                                2\n",
       "trafficSource.referralPath                             1476\n",
       "trafficSource.adwordsClickInfo.page                       9\n",
       "trafficSource.adwordsClickInfo.slot                       3\n",
       "trafficSource.adwordsClickInfo.gclId                  17775\n",
       "trafficSource.adwordsClickInfo.adNetworkType              3\n",
       "trafficSource.adwordsClickInfo.isVideoAd                  2\n",
       "trafficSource.adContent                                  45\n",
       "trafficSource.campaignCode                                2\n",
       "dtype: int64"
      ]
     },
     "execution_count": 8,
     "metadata": {},
     "output_type": "execute_result"
    }
   ],
   "source": [
    "# Count the unique elements in the DataFrame\n",
    "store_df.nunique(dropna=False)"
   ]
  },
  {
   "cell_type": "markdown",
   "metadata": {},
   "source": [
    "There are a lot of columns contaning only a single value. So, let us fetch them out programmatically by appending them into an empty list, "
   ]
  },
  {
   "cell_type": "code",
   "execution_count": 9,
   "metadata": {},
   "outputs": [],
   "source": [
    "# Creating an empty list\n",
    "single_val_cols = []\n",
    "\n",
    "# Looping across all column names\n",
    "for x in store_df.columns:\n",
    "    if store_df[x].nunique(dropna=False) == 1:\n",
    "        single_val_cols.append(x)"
   ]
  },
  {
   "cell_type": "code",
   "execution_count": 10,
   "metadata": {
    "scrolled": true
   },
   "outputs": [
    {
     "data": {
      "text/plain": [
       "['socialEngagementType',\n",
       " 'device.browserVersion',\n",
       " 'device.browserSize',\n",
       " 'device.operatingSystemVersion',\n",
       " 'device.mobileDeviceBranding',\n",
       " 'device.mobileDeviceModel',\n",
       " 'device.mobileInputSelector',\n",
       " 'device.mobileDeviceInfo',\n",
       " 'device.mobileDeviceMarketingName',\n",
       " 'device.flashVersion',\n",
       " 'device.language',\n",
       " 'device.screenColors',\n",
       " 'device.screenResolution',\n",
       " 'geoNetwork.cityId',\n",
       " 'geoNetwork.latitude',\n",
       " 'geoNetwork.longitude',\n",
       " 'geoNetwork.networkLocation',\n",
       " 'totals.visits',\n",
       " 'trafficSource.adwordsClickInfo.criteriaParameters']"
      ]
     },
     "execution_count": 10,
     "metadata": {},
     "output_type": "execute_result"
    }
   ],
   "source": [
    "single_val_cols"
   ]
  },
  {
   "cell_type": "markdown",
   "metadata": {},
   "source": [
    "These columns may contain some kind of data value, however, the information in them is non-existent since they do not help to distinguish one user's session history from the other. So, let us remove them using the `drop()` method off of the DataFrame."
   ]
  },
  {
   "cell_type": "code",
   "execution_count": 11,
   "metadata": {},
   "outputs": [],
   "source": [
    "# Dropping the columns\n",
    "store_df.drop(single_val_cols, axis=1, inplace=True)"
   ]
  },
  {
   "cell_type": "code",
   "execution_count": 12,
   "metadata": {},
   "outputs": [
    {
     "data": {
      "text/html": [
       "<div>\n",
       "<style scoped>\n",
       "    .dataframe tbody tr th:only-of-type {\n",
       "        vertical-align: middle;\n",
       "    }\n",
       "\n",
       "    .dataframe tbody tr th {\n",
       "        vertical-align: top;\n",
       "    }\n",
       "\n",
       "    .dataframe thead th {\n",
       "        text-align: right;\n",
       "    }\n",
       "</style>\n",
       "<table border=\"1\" class=\"dataframe\">\n",
       "  <thead>\n",
       "    <tr style=\"text-align: right;\">\n",
       "      <th></th>\n",
       "      <th>channelGrouping</th>\n",
       "      <th>date</th>\n",
       "      <th>fullVisitorId</th>\n",
       "      <th>sessionId</th>\n",
       "      <th>visitId</th>\n",
       "      <th>visitNumber</th>\n",
       "      <th>visitStartTime</th>\n",
       "      <th>device.browser</th>\n",
       "      <th>device.operatingSystem</th>\n",
       "      <th>device.isMobile</th>\n",
       "      <th>...</th>\n",
       "      <th>trafficSource.keyword</th>\n",
       "      <th>trafficSource.isTrueDirect</th>\n",
       "      <th>trafficSource.referralPath</th>\n",
       "      <th>trafficSource.adwordsClickInfo.page</th>\n",
       "      <th>trafficSource.adwordsClickInfo.slot</th>\n",
       "      <th>trafficSource.adwordsClickInfo.gclId</th>\n",
       "      <th>trafficSource.adwordsClickInfo.adNetworkType</th>\n",
       "      <th>trafficSource.adwordsClickInfo.isVideoAd</th>\n",
       "      <th>trafficSource.adContent</th>\n",
       "      <th>trafficSource.campaignCode</th>\n",
       "    </tr>\n",
       "  </thead>\n",
       "  <tbody>\n",
       "    <tr>\n",
       "      <th>0</th>\n",
       "      <td>Organic Search</td>\n",
       "      <td>20160902</td>\n",
       "      <td>1131660440785968503</td>\n",
       "      <td>1131660440785968503_1472830385</td>\n",
       "      <td>1472830385</td>\n",
       "      <td>1</td>\n",
       "      <td>1472830385</td>\n",
       "      <td>Chrome</td>\n",
       "      <td>Windows</td>\n",
       "      <td>False</td>\n",
       "      <td>...</td>\n",
       "      <td>(not provided)</td>\n",
       "      <td>NaN</td>\n",
       "      <td>NaN</td>\n",
       "      <td>NaN</td>\n",
       "      <td>NaN</td>\n",
       "      <td>NaN</td>\n",
       "      <td>NaN</td>\n",
       "      <td>NaN</td>\n",
       "      <td>NaN</td>\n",
       "      <td>NaN</td>\n",
       "    </tr>\n",
       "    <tr>\n",
       "      <th>1</th>\n",
       "      <td>Organic Search</td>\n",
       "      <td>20160902</td>\n",
       "      <td>377306020877927890</td>\n",
       "      <td>377306020877927890_1472880147</td>\n",
       "      <td>1472880147</td>\n",
       "      <td>1</td>\n",
       "      <td>1472880147</td>\n",
       "      <td>Firefox</td>\n",
       "      <td>Macintosh</td>\n",
       "      <td>False</td>\n",
       "      <td>...</td>\n",
       "      <td>(not provided)</td>\n",
       "      <td>NaN</td>\n",
       "      <td>NaN</td>\n",
       "      <td>NaN</td>\n",
       "      <td>NaN</td>\n",
       "      <td>NaN</td>\n",
       "      <td>NaN</td>\n",
       "      <td>NaN</td>\n",
       "      <td>NaN</td>\n",
       "      <td>NaN</td>\n",
       "    </tr>\n",
       "    <tr>\n",
       "      <th>2</th>\n",
       "      <td>Organic Search</td>\n",
       "      <td>20160902</td>\n",
       "      <td>3895546263509774583</td>\n",
       "      <td>3895546263509774583_1472865386</td>\n",
       "      <td>1472865386</td>\n",
       "      <td>1</td>\n",
       "      <td>1472865386</td>\n",
       "      <td>Chrome</td>\n",
       "      <td>Windows</td>\n",
       "      <td>False</td>\n",
       "      <td>...</td>\n",
       "      <td>(not provided)</td>\n",
       "      <td>NaN</td>\n",
       "      <td>NaN</td>\n",
       "      <td>NaN</td>\n",
       "      <td>NaN</td>\n",
       "      <td>NaN</td>\n",
       "      <td>NaN</td>\n",
       "      <td>NaN</td>\n",
       "      <td>NaN</td>\n",
       "      <td>NaN</td>\n",
       "    </tr>\n",
       "    <tr>\n",
       "      <th>3</th>\n",
       "      <td>Organic Search</td>\n",
       "      <td>20160902</td>\n",
       "      <td>4763447161404445595</td>\n",
       "      <td>4763447161404445595_1472881213</td>\n",
       "      <td>1472881213</td>\n",
       "      <td>1</td>\n",
       "      <td>1472881213</td>\n",
       "      <td>UC Browser</td>\n",
       "      <td>Linux</td>\n",
       "      <td>False</td>\n",
       "      <td>...</td>\n",
       "      <td>google + online</td>\n",
       "      <td>NaN</td>\n",
       "      <td>NaN</td>\n",
       "      <td>NaN</td>\n",
       "      <td>NaN</td>\n",
       "      <td>NaN</td>\n",
       "      <td>NaN</td>\n",
       "      <td>NaN</td>\n",
       "      <td>NaN</td>\n",
       "      <td>NaN</td>\n",
       "    </tr>\n",
       "    <tr>\n",
       "      <th>4</th>\n",
       "      <td>Organic Search</td>\n",
       "      <td>20160902</td>\n",
       "      <td>27294437909732085</td>\n",
       "      <td>27294437909732085_1472822600</td>\n",
       "      <td>1472822600</td>\n",
       "      <td>2</td>\n",
       "      <td>1472822600</td>\n",
       "      <td>Chrome</td>\n",
       "      <td>Android</td>\n",
       "      <td>True</td>\n",
       "      <td>...</td>\n",
       "      <td>(not provided)</td>\n",
       "      <td>True</td>\n",
       "      <td>NaN</td>\n",
       "      <td>NaN</td>\n",
       "      <td>NaN</td>\n",
       "      <td>NaN</td>\n",
       "      <td>NaN</td>\n",
       "      <td>NaN</td>\n",
       "      <td>NaN</td>\n",
       "      <td>NaN</td>\n",
       "    </tr>\n",
       "  </tbody>\n",
       "</table>\n",
       "<p>5 rows × 36 columns</p>\n",
       "</div>"
      ],
      "text/plain": [
       "  channelGrouping      date        fullVisitorId  \\\n",
       "0  Organic Search  20160902  1131660440785968503   \n",
       "1  Organic Search  20160902   377306020877927890   \n",
       "2  Organic Search  20160902  3895546263509774583   \n",
       "3  Organic Search  20160902  4763447161404445595   \n",
       "4  Organic Search  20160902    27294437909732085   \n",
       "\n",
       "                        sessionId     visitId  visitNumber  visitStartTime  \\\n",
       "0  1131660440785968503_1472830385  1472830385            1      1472830385   \n",
       "1   377306020877927890_1472880147  1472880147            1      1472880147   \n",
       "2  3895546263509774583_1472865386  1472865386            1      1472865386   \n",
       "3  4763447161404445595_1472881213  1472881213            1      1472881213   \n",
       "4    27294437909732085_1472822600  1472822600            2      1472822600   \n",
       "\n",
       "  device.browser device.operatingSystem  device.isMobile  ...  \\\n",
       "0         Chrome                Windows            False  ...   \n",
       "1        Firefox              Macintosh            False  ...   \n",
       "2         Chrome                Windows            False  ...   \n",
       "3     UC Browser                  Linux            False  ...   \n",
       "4         Chrome                Android             True  ...   \n",
       "\n",
       "  trafficSource.keyword trafficSource.isTrueDirect trafficSource.referralPath  \\\n",
       "0        (not provided)                        NaN                        NaN   \n",
       "1        (not provided)                        NaN                        NaN   \n",
       "2        (not provided)                        NaN                        NaN   \n",
       "3       google + online                        NaN                        NaN   \n",
       "4        (not provided)                       True                        NaN   \n",
       "\n",
       "  trafficSource.adwordsClickInfo.page trafficSource.adwordsClickInfo.slot  \\\n",
       "0                                 NaN                                 NaN   \n",
       "1                                 NaN                                 NaN   \n",
       "2                                 NaN                                 NaN   \n",
       "3                                 NaN                                 NaN   \n",
       "4                                 NaN                                 NaN   \n",
       "\n",
       "  trafficSource.adwordsClickInfo.gclId  \\\n",
       "0                                  NaN   \n",
       "1                                  NaN   \n",
       "2                                  NaN   \n",
       "3                                  NaN   \n",
       "4                                  NaN   \n",
       "\n",
       "  trafficSource.adwordsClickInfo.adNetworkType  \\\n",
       "0                                          NaN   \n",
       "1                                          NaN   \n",
       "2                                          NaN   \n",
       "3                                          NaN   \n",
       "4                                          NaN   \n",
       "\n",
       "  trafficSource.adwordsClickInfo.isVideoAd  trafficSource.adContent  \\\n",
       "0                                      NaN                      NaN   \n",
       "1                                      NaN                      NaN   \n",
       "2                                      NaN                      NaN   \n",
       "3                                      NaN                      NaN   \n",
       "4                                      NaN                      NaN   \n",
       "\n",
       "   trafficSource.campaignCode  \n",
       "0                         NaN  \n",
       "1                         NaN  \n",
       "2                         NaN  \n",
       "3                         NaN  \n",
       "4                         NaN  \n",
       "\n",
       "[5 rows x 36 columns]"
      ]
     },
     "execution_count": 12,
     "metadata": {},
     "output_type": "execute_result"
    }
   ],
   "source": [
    "# Looking at the first five rows\n",
    "store_df.head()"
   ]
  },
  {
   "cell_type": "markdown",
   "metadata": {},
   "source": [
    "If we look at the columns again, `sessionId` seems to be randomly generated for each session irrespective of the user. Therefore, we can drop it as well."
   ]
  },
  {
   "cell_type": "code",
   "execution_count": 13,
   "metadata": {},
   "outputs": [],
   "source": [
    "# Dropping the column\n",
    "store_df.drop(['sessionId'], axis=1, inplace=True)"
   ]
  },
  {
   "cell_type": "markdown",
   "metadata": {},
   "source": [
    "Finally, let us check again if we have left out any column that doesn't add value to us."
   ]
  },
  {
   "cell_type": "code",
   "execution_count": 14,
   "metadata": {},
   "outputs": [
    {
     "data": {
      "text/plain": [
       "channelGrouping                                      8\n",
       "date                                               366\n",
       "fullVisitorId                                   714167\n",
       "visitId                                         886303\n",
       "visitNumber                                        384\n",
       "visitStartTime                                  887159\n",
       "device.browser                                      54\n",
       "device.operatingSystem                              20\n",
       "device.isMobile                                      2\n",
       "device.deviceCategory                                3\n",
       "geoNetwork.continent                                 6\n",
       "geoNetwork.subContinent                             23\n",
       "geoNetwork.country                                 222\n",
       "geoNetwork.region                                  376\n",
       "geoNetwork.metro                                    94\n",
       "geoNetwork.city                                    649\n",
       "geoNetwork.networkDomain                         28064\n",
       "totals.hits                                        274\n",
       "totals.pageviews                                   214\n",
       "totals.bounces                                       2\n",
       "totals.newVisits                                     2\n",
       "totals.transactionRevenue                         5333\n",
       "trafficSource.campaign                              10\n",
       "trafficSource.source                               380\n",
       "trafficSource.medium                                 7\n",
       "trafficSource.keyword                             3660\n",
       "trafficSource.isTrueDirect                           2\n",
       "trafficSource.referralPath                        1476\n",
       "trafficSource.adwordsClickInfo.page                  9\n",
       "trafficSource.adwordsClickInfo.slot                  3\n",
       "trafficSource.adwordsClickInfo.gclId             17775\n",
       "trafficSource.adwordsClickInfo.adNetworkType         3\n",
       "trafficSource.adwordsClickInfo.isVideoAd             2\n",
       "trafficSource.adContent                             45\n",
       "trafficSource.campaignCode                           2\n",
       "dtype: int64"
      ]
     },
     "execution_count": 14,
     "metadata": {},
     "output_type": "execute_result"
    }
   ],
   "source": [
    "# Count the unique elements in the DataFrame\n",
    "store_df.nunique(dropna=False)"
   ]
  },
  {
   "cell_type": "markdown",
   "metadata": {},
   "source": [
    "Looks like all the columns are useful. Now, let us check the memory usage again."
   ]
  },
  {
   "cell_type": "code",
   "execution_count": 15,
   "metadata": {
    "scrolled": true
   },
   "outputs": [
    {
     "name": "stdout",
     "output_type": "stream",
     "text": [
      "<class 'pandas.core.frame.DataFrame'>\n",
      "RangeIndex: 903653 entries, 0 to 903652\n",
      "Data columns (total 35 columns):\n",
      " #   Column                                        Non-Null Count   Dtype  \n",
      "---  ------                                        --------------   -----  \n",
      " 0   channelGrouping                               903653 non-null  object \n",
      " 1   date                                          903653 non-null  int64  \n",
      " 2   fullVisitorId                                 903653 non-null  object \n",
      " 3   visitId                                       903653 non-null  int64  \n",
      " 4   visitNumber                                   903653 non-null  int64  \n",
      " 5   visitStartTime                                903653 non-null  int64  \n",
      " 6   device.browser                                903653 non-null  object \n",
      " 7   device.operatingSystem                        903653 non-null  object \n",
      " 8   device.isMobile                               903653 non-null  bool   \n",
      " 9   device.deviceCategory                         903653 non-null  object \n",
      " 10  geoNetwork.continent                          903653 non-null  object \n",
      " 11  geoNetwork.subContinent                       903653 non-null  object \n",
      " 12  geoNetwork.country                            903653 non-null  object \n",
      " 13  geoNetwork.region                             903653 non-null  object \n",
      " 14  geoNetwork.metro                              903653 non-null  object \n",
      " 15  geoNetwork.city                               903653 non-null  object \n",
      " 16  geoNetwork.networkDomain                      903653 non-null  object \n",
      " 17  totals.hits                                   903653 non-null  int64  \n",
      " 18  totals.pageviews                              903553 non-null  float64\n",
      " 19  totals.bounces                                450630 non-null  float64\n",
      " 20  totals.newVisits                              703060 non-null  float64\n",
      " 21  totals.transactionRevenue                     11515 non-null   float64\n",
      " 22  trafficSource.campaign                        903653 non-null  object \n",
      " 23  trafficSource.source                          903653 non-null  object \n",
      " 24  trafficSource.medium                          903653 non-null  object \n",
      " 25  trafficSource.keyword                         400724 non-null  object \n",
      " 26  trafficSource.isTrueDirect                    274005 non-null  object \n",
      " 27  trafficSource.referralPath                    330941 non-null  object \n",
      " 28  trafficSource.adwordsClickInfo.page           21460 non-null   float64\n",
      " 29  trafficSource.adwordsClickInfo.slot           21460 non-null   object \n",
      " 30  trafficSource.adwordsClickInfo.gclId          21561 non-null   object \n",
      " 31  trafficSource.adwordsClickInfo.adNetworkType  21460 non-null   object \n",
      " 32  trafficSource.adwordsClickInfo.isVideoAd      21460 non-null   object \n",
      " 33  trafficSource.adContent                       10946 non-null   object \n",
      " 34  trafficSource.campaignCode                    1 non-null       object \n",
      "dtypes: bool(1), float64(5), int64(5), object(24)\n",
      "memory usage: 1.2 GB\n"
     ]
    }
   ],
   "source": [
    "# Printing a concise summary of the DataFrame\n",
    "store_df.info(memory_usage=\"deep\")"
   ]
  },
  {
   "cell_type": "markdown",
   "metadata": {},
   "source": [
    "Great! That's a huge improvement."
   ]
  },
  {
   "cell_type": "markdown",
   "metadata": {},
   "source": [
    "Looking at the data fields we can see that the dataset can be grouped onto various categories such as:\n",
    "\n",
    "- Session Visit Information (channelGrouping, date, fullVisitorId, ...)\n",
    "\n",
    "- Device Information (device.browser, device.operatingSystem, device.isMobile, ...)\n",
    "\n",
    "- Geographical Information (geoNetwork.continent, geoNetwork.subContinent, geoNetwork.country, ...)\n",
    "\n",
    "- Aggregated Information (totals.hits, totals.pageviews, totals.bounces, ...)\n",
    "\n",
    "- Traffic Source Information (trafficSource.campaign, trafficSource.source, trafficSource.medium, ...)\n",
    "\n",
    "These will be our features for predicting the Revenue Information which is given by the column name `totals.transactionRevenue`."
   ]
  },
  {
   "cell_type": "markdown",
   "metadata": {},
   "source": [
    "Finally, let us export this optimized DataFrame to a new CSV file so that we can use it in future lessons."
   ]
  },
  {
   "cell_type": "code",
   "execution_count": 16,
   "metadata": {},
   "outputs": [],
   "source": [
    "# Exporting as a CSV file\n",
    "store_df.to_csv('data/optimized_gstore_data.csv', header=True, index=False)"
   ]
  },
  {
   "cell_type": "markdown",
   "metadata": {},
   "source": [
    "That is it for this lesson!"
   ]
  },
  {
   "cell_type": "markdown",
   "metadata": {},
   "source": [
    "As an exercise, I would like to encourage you to look at the content of each column by selecting them from the optimized DataFrame one by one. Next, create a note of how valuable the column may be in order to predict the revenue generated per customer.\n",
    "\n",
    "This will help you to further understand the dataset and prepare yourself for the upcoming lessons."
   ]
  }
 ],
 "metadata": {
  "kernelspec": {
   "display_name": "Python 3",
   "language": "python",
   "name": "python3"
  },
  "language_info": {
   "codemirror_mode": {
    "name": "ipython",
    "version": 3
   },
   "file_extension": ".py",
   "mimetype": "text/x-python",
   "name": "python",
   "nbconvert_exporter": "python",
   "pygments_lexer": "ipython3",
   "version": "3.8.6"
  }
 },
 "nbformat": 4,
 "nbformat_minor": 4
}
